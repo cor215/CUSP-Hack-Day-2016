{
 "cells": [
  {
   "cell_type": "code",
   "execution_count": 1,
   "metadata": {
    "collapsed": false
   },
   "outputs": [
    {
     "name": "stderr",
     "output_type": "stream",
     "text": [
      "/Users/christianrosado/anaconda/lib/python2.7/site-packages/IPython/html.py:14: ShimWarning: The `IPython.html` package has been deprecated. You should import from `notebook` instead. `IPython.html.widgets` has moved to `ipywidgets`.\n",
      "  \"`IPython.html.widgets` has moved to `ipywidgets`.\", ShimWarning)\n"
     ]
    }
   ],
   "source": [
    "%matplotlib inline\n",
    "import numpy as np\n",
    "import pandas as pd\n",
    "from pandas import DataFrame\n",
    "import matplotlib.pylab as plt\n",
    "import seaborn\n",
    "from geopandas import GeoDataFrame\n",
    "from fiona.crs import from_epsg\n",
    "import fiona\n",
    "import shapely\n",
    "\n",
    "from IPython.html import widgets\n",
    "from IPython.html.widgets import interact\n",
    "from IPython.display import display"
   ]
  },
  {
   "cell_type": "code",
   "execution_count": 2,
   "metadata": {
    "collapsed": true
   },
   "outputs": [],
   "source": [
    "elevation_path = \"Hack_Day_2016/Elevation_points/geo_export_7d2b03b2-bf4c-45d1-9b77-b2b149164bc4.shp\""
   ]
  },
  {
   "cell_type": "code",
   "execution_count": 3,
   "metadata": {
    "collapsed": true
   },
   "outputs": [],
   "source": [
    "elevation_shape = GeoDataFrame.from_file(elevation_path)"
   ]
  },
  {
   "cell_type": "code",
   "execution_count": 4,
   "metadata": {
    "collapsed": false
   },
   "outputs": [
    {
     "data": {
      "text/html": [
       "<div>\n",
       "<table border=\"1\" class=\"dataframe\">\n",
       "  <thead>\n",
       "    <tr style=\"text-align: right;\">\n",
       "      <th></th>\n",
       "      <th>elevation</th>\n",
       "      <th>feat_code</th>\n",
       "      <th>geometry</th>\n",
       "      <th>source_id</th>\n",
       "      <th>status</th>\n",
       "      <th>sub_code</th>\n",
       "    </tr>\n",
       "  </thead>\n",
       "  <tbody>\n",
       "    <tr>\n",
       "      <th>0</th>\n",
       "      <td>129.740000</td>\n",
       "      <td>3020.0</td>\n",
       "      <td>POINT (-73.98256951739029 40.70191431011495)</td>\n",
       "      <td>2.130200e+10</td>\n",
       "      <td>Unchanged</td>\n",
       "      <td>302000.0</td>\n",
       "    </tr>\n",
       "    <tr>\n",
       "      <th>1</th>\n",
       "      <td>120.586263</td>\n",
       "      <td>3000.0</td>\n",
       "      <td>POINT (-73.98777990215136 40.70192587201795)</td>\n",
       "      <td>2.130000e+10</td>\n",
       "      <td>Unchanged</td>\n",
       "      <td>300020.0</td>\n",
       "    </tr>\n",
       "    <tr>\n",
       "      <th>2</th>\n",
       "      <td>114.740000</td>\n",
       "      <td>3020.0</td>\n",
       "      <td>POINT (-73.98443622855351 40.70193746867856)</td>\n",
       "      <td>2.130200e+10</td>\n",
       "      <td>Unchanged</td>\n",
       "      <td>302000.0</td>\n",
       "    </tr>\n",
       "    <tr>\n",
       "      <th>3</th>\n",
       "      <td>69.130000</td>\n",
       "      <td>3020.0</td>\n",
       "      <td>POINT (-73.98103106115082 40.70194154237234)</td>\n",
       "      <td>2.130200e+10</td>\n",
       "      <td>Unchanged</td>\n",
       "      <td>302000.0</td>\n",
       "    </tr>\n",
       "    <tr>\n",
       "      <th>4</th>\n",
       "      <td>49.235397</td>\n",
       "      <td>3020.0</td>\n",
       "      <td>POINT (-73.98802335685477 40.70196086988672)</td>\n",
       "      <td>2.130200e+10</td>\n",
       "      <td>Unchanged</td>\n",
       "      <td>302000.0</td>\n",
       "    </tr>\n",
       "  </tbody>\n",
       "</table>\n",
       "</div>"
      ],
      "text/plain": [
       "    elevation  feat_code                                      geometry  \\\n",
       "0  129.740000     3020.0  POINT (-73.98256951739029 40.70191431011495)   \n",
       "1  120.586263     3000.0  POINT (-73.98777990215136 40.70192587201795)   \n",
       "2  114.740000     3020.0  POINT (-73.98443622855351 40.70193746867856)   \n",
       "3   69.130000     3020.0  POINT (-73.98103106115082 40.70194154237234)   \n",
       "4   49.235397     3020.0  POINT (-73.98802335685477 40.70196086988672)   \n",
       "\n",
       "      source_id     status  sub_code  \n",
       "0  2.130200e+10  Unchanged  302000.0  \n",
       "1  2.130000e+10  Unchanged  300020.0  \n",
       "2  2.130200e+10  Unchanged  302000.0  \n",
       "3  2.130200e+10  Unchanged  302000.0  \n",
       "4  2.130200e+10  Unchanged  302000.0  "
      ]
     },
     "execution_count": 4,
     "metadata": {},
     "output_type": "execute_result"
    }
   ],
   "source": [
    "elevation_shape.head()"
   ]
  },
  {
   "cell_type": "code",
   "execution_count": 33,
   "metadata": {
    "collapsed": false
   },
   "outputs": [
    {
     "data": {
      "text/plain": [
       "RangeIndex(start=0, stop=1473788, step=1)"
      ]
     },
     "execution_count": 33,
     "metadata": {},
     "output_type": "execute_result"
    }
   ],
   "source": [
    "elevation_shape.index"
   ]
  },
  {
   "cell_type": "code",
   "execution_count": 5,
   "metadata": {
    "collapsed": true
   },
   "outputs": [],
   "source": [
    "elevation_shape.crs = from_epsg(4326) # epsg=4326: lat/on | 26918: NAD83/UTM zone 18N | epsg=2263 is US feet"
   ]
  },
  {
   "cell_type": "code",
   "execution_count": 7,
   "metadata": {
    "collapsed": false
   },
   "outputs": [],
   "source": [
    "elevation_shape_sub = elevation_shape[:5]"
   ]
  },
  {
   "cell_type": "code",
   "execution_count": 8,
   "metadata": {
    "collapsed": false
   },
   "outputs": [
    {
     "data": {
      "text/html": [
       "<div>\n",
       "<table border=\"1\" class=\"dataframe\">\n",
       "  <thead>\n",
       "    <tr style=\"text-align: right;\">\n",
       "      <th></th>\n",
       "      <th>elevation</th>\n",
       "      <th>feat_code</th>\n",
       "      <th>geometry</th>\n",
       "      <th>source_id</th>\n",
       "      <th>status</th>\n",
       "      <th>sub_code</th>\n",
       "    </tr>\n",
       "  </thead>\n",
       "  <tbody>\n",
       "    <tr>\n",
       "      <th>0</th>\n",
       "      <td>129.740000</td>\n",
       "      <td>3020.0</td>\n",
       "      <td>POINT (-73.98256951739029 40.70191431011495)</td>\n",
       "      <td>2.130200e+10</td>\n",
       "      <td>Unchanged</td>\n",
       "      <td>302000.0</td>\n",
       "    </tr>\n",
       "    <tr>\n",
       "      <th>1</th>\n",
       "      <td>120.586263</td>\n",
       "      <td>3000.0</td>\n",
       "      <td>POINT (-73.98777990215136 40.70192587201795)</td>\n",
       "      <td>2.130000e+10</td>\n",
       "      <td>Unchanged</td>\n",
       "      <td>300020.0</td>\n",
       "    </tr>\n",
       "    <tr>\n",
       "      <th>2</th>\n",
       "      <td>114.740000</td>\n",
       "      <td>3020.0</td>\n",
       "      <td>POINT (-73.98443622855351 40.70193746867856)</td>\n",
       "      <td>2.130200e+10</td>\n",
       "      <td>Unchanged</td>\n",
       "      <td>302000.0</td>\n",
       "    </tr>\n",
       "    <tr>\n",
       "      <th>3</th>\n",
       "      <td>69.130000</td>\n",
       "      <td>3020.0</td>\n",
       "      <td>POINT (-73.98103106115082 40.70194154237234)</td>\n",
       "      <td>2.130200e+10</td>\n",
       "      <td>Unchanged</td>\n",
       "      <td>302000.0</td>\n",
       "    </tr>\n",
       "    <tr>\n",
       "      <th>4</th>\n",
       "      <td>49.235397</td>\n",
       "      <td>3020.0</td>\n",
       "      <td>POINT (-73.98802335685477 40.70196086988672)</td>\n",
       "      <td>2.130200e+10</td>\n",
       "      <td>Unchanged</td>\n",
       "      <td>302000.0</td>\n",
       "    </tr>\n",
       "  </tbody>\n",
       "</table>\n",
       "</div>"
      ],
      "text/plain": [
       "    elevation  feat_code                                      geometry  \\\n",
       "0  129.740000     3020.0  POINT (-73.98256951739029 40.70191431011495)   \n",
       "1  120.586263     3000.0  POINT (-73.98777990215136 40.70192587201795)   \n",
       "2  114.740000     3020.0  POINT (-73.98443622855351 40.70193746867856)   \n",
       "3   69.130000     3020.0  POINT (-73.98103106115082 40.70194154237234)   \n",
       "4   49.235397     3020.0  POINT (-73.98802335685477 40.70196086988672)   \n",
       "\n",
       "      source_id     status  sub_code  \n",
       "0  2.130200e+10  Unchanged  302000.0  \n",
       "1  2.130000e+10  Unchanged  300020.0  \n",
       "2  2.130200e+10  Unchanged  302000.0  \n",
       "3  2.130200e+10  Unchanged  302000.0  \n",
       "4  2.130200e+10  Unchanged  302000.0  "
      ]
     },
     "execution_count": 8,
     "metadata": {},
     "output_type": "execute_result"
    }
   ],
   "source": [
    "elevation_shape_sub"
   ]
  },
  {
   "cell_type": "code",
   "execution_count": 9,
   "metadata": {
    "collapsed": true
   },
   "outputs": [],
   "source": [
    "ct_path = \"Hack_Day_2016/nycb2010_16d/nycb2010.shp\"\n",
    "ct_shape = GeoDataFrame.from_file(ct_path)\n",
    "ct_shape"
   ]
  },
  {
   "cell_type": "code",
   "execution_count": 34,
   "metadata": {
    "collapsed": true
   },
   "outputs": [],
   "source": [
    "ct_shape.crs = from_epsg(4326)"
   ]
  },
  {
   "cell_type": "code",
   "execution_count": 35,
   "metadata": {
    "collapsed": false
   },
   "outputs": [
    {
     "data": {
      "text/html": [
       "<div>\n",
       "<table border=\"1\" class=\"dataframe\">\n",
       "  <thead>\n",
       "    <tr style=\"text-align: right;\">\n",
       "      <th></th>\n",
       "      <th>BCTCB2010</th>\n",
       "      <th>BoroCode</th>\n",
       "      <th>BoroName</th>\n",
       "      <th>CB2010</th>\n",
       "      <th>CT2010</th>\n",
       "      <th>Shape_Area</th>\n",
       "      <th>Shape_Leng</th>\n",
       "      <th>geometry</th>\n",
       "    </tr>\n",
       "  </thead>\n",
       "  <tbody>\n",
       "    <tr>\n",
       "      <th>0</th>\n",
       "      <td>50009001000</td>\n",
       "      <td>5</td>\n",
       "      <td>Staten Island</td>\n",
       "      <td>1000</td>\n",
       "      <td>000900</td>\n",
       "      <td>244589.603884</td>\n",
       "      <td>2508.948115</td>\n",
       "      <td>POLYGON ((962269.1260375977 173705.5001831055,...</td>\n",
       "    </tr>\n",
       "    <tr>\n",
       "      <th>1</th>\n",
       "      <td>50020011000</td>\n",
       "      <td>5</td>\n",
       "      <td>Staten Island</td>\n",
       "      <td>1000</td>\n",
       "      <td>002001</td>\n",
       "      <td>111006.286826</td>\n",
       "      <td>1345.886422</td>\n",
       "      <td>POLYGON ((964642.2676391602 161835.2651977539,...</td>\n",
       "    </tr>\n",
       "    <tr>\n",
       "      <th>2</th>\n",
       "      <td>50027001000</td>\n",
       "      <td>5</td>\n",
       "      <td>Staten Island</td>\n",
       "      <td>1000</td>\n",
       "      <td>002700</td>\n",
       "      <td>150406.766022</td>\n",
       "      <td>1703.381172</td>\n",
       "      <td>POLYGON ((963363.1168212891 167356.3336181641,...</td>\n",
       "    </tr>\n",
       "    <tr>\n",
       "      <th>3</th>\n",
       "      <td>50040001000</td>\n",
       "      <td>5</td>\n",
       "      <td>Staten Island</td>\n",
       "      <td>1000</td>\n",
       "      <td>004000</td>\n",
       "      <td>141296.561149</td>\n",
       "      <td>1511.173743</td>\n",
       "      <td>POLYGON ((960069.9965820312 161953.6936035156,...</td>\n",
       "    </tr>\n",
       "    <tr>\n",
       "      <th>4</th>\n",
       "      <td>50064001000</td>\n",
       "      <td>5</td>\n",
       "      <td>Staten Island</td>\n",
       "      <td>1000</td>\n",
       "      <td>006400</td>\n",
       "      <td>200784.983607</td>\n",
       "      <td>1978.243852</td>\n",
       "      <td>POLYGON ((963023.891784668 158246.7521972656, ...</td>\n",
       "    </tr>\n",
       "  </tbody>\n",
       "</table>\n",
       "</div>"
      ],
      "text/plain": [
       "     BCTCB2010 BoroCode       BoroName CB2010  CT2010     Shape_Area  \\\n",
       "0  50009001000        5  Staten Island   1000  000900  244589.603884   \n",
       "1  50020011000        5  Staten Island   1000  002001  111006.286826   \n",
       "2  50027001000        5  Staten Island   1000  002700  150406.766022   \n",
       "3  50040001000        5  Staten Island   1000  004000  141296.561149   \n",
       "4  50064001000        5  Staten Island   1000  006400  200784.983607   \n",
       "\n",
       "    Shape_Leng                                           geometry  \n",
       "0  2508.948115  POLYGON ((962269.1260375977 173705.5001831055,...  \n",
       "1  1345.886422  POLYGON ((964642.2676391602 161835.2651977539,...  \n",
       "2  1703.381172  POLYGON ((963363.1168212891 167356.3336181641,...  \n",
       "3  1511.173743  POLYGON ((960069.9965820312 161953.6936035156,...  \n",
       "4  1978.243852  POLYGON ((963023.891784668 158246.7521972656, ...  "
      ]
     },
     "execution_count": 35,
     "metadata": {},
     "output_type": "execute_result"
    }
   ],
   "source": [
    "ct_shape.head()"
   ]
  },
  {
   "cell_type": "code",
   "execution_count": 36,
   "metadata": {
    "collapsed": false
   },
   "outputs": [
    {
     "data": {
      "text/plain": [
       "38794"
      ]
     },
     "execution_count": 36,
     "metadata": {},
     "output_type": "execute_result"
    }
   ],
   "source": [
    "ct_shape['geometry'].size"
   ]
  },
  {
   "cell_type": "code",
   "execution_count": 37,
   "metadata": {
    "collapsed": false
   },
   "outputs": [
    {
     "data": {
      "text/plain": [
       "<matplotlib.axes._subplots.AxesSubplot at 0x1b7b3a050>"
      ]
     },
     "execution_count": 37,
     "metadata": {},
     "output_type": "execute_result"
    },
    {
     "data": {
      "image/png": "[encoded data removed]",
      "text/plain": [
       "<matplotlib.figure.Figure at 0x1b79730d0>"
      ]
     },
     "metadata": {},
     "output_type": "display_data"
    }
   ],
   "source": [
    "ct_shape.loc[:200].plot()"
   ]
  },
  {
   "cell_type": "code",
   "execution_count": 38,
   "metadata": {
    "collapsed": false
   },
   "outputs": [
    {
     "data": {
      "text/plain": [
       "array([u'Staten Island', u'Manhattan', u'Brooklyn', u'Bronx', u'Queens'], dtype=object)"
      ]
     },
     "execution_count": 38,
     "metadata": {},
     "output_type": "execute_result"
    }
   ],
   "source": [
    "ct_shape['BoroName'].unique()"
   ]
  },
  {
   "cell_type": "code",
   "execution_count": 42,
   "metadata": {
    "collapsed": true
   },
   "outputs": [],
   "source": [
    "point = elevation_shape_sub.geometry[0]\n",
    "point = shapely.geometry.Point(point.x, point.y) # longitude, latitude"
   ]
  },
  {
   "cell_type": "code",
   "execution_count": 43,
   "metadata": {
    "collapsed": false
   },
   "outputs": [
    {
     "name": "stdout",
     "output_type": "stream",
     "text": [
      "POINT (-73.98256951739029 40.70191431011495)\n"
     ]
    }
   ],
   "source": [
    "print(point)"
   ]
  },
  {
   "cell_type": "code",
   "execution_count": 44,
   "metadata": {
    "collapsed": false
   },
   "outputs": [],
   "source": [
    "for ct in ct_shape.geometry:\n",
    "    shape = shapely.geometry.asShape(ct)\n",
    "    if shape.contains(point):\n",
    "        print('yes')"
   ]
  },
  {
   "cell_type": "code",
   "execution_count": null,
   "metadata": {
    "collapsed": true
   },
   "outputs": [],
   "source": []
  }
 ],
 "metadata": {
  "anaconda-cloud": {},
  "kernelspec": {
   "display_name": "Python [Root]",
   "language": "python",
   "name": "Python [Root]"
  },
  "language_info": {
   "codemirror_mode": {
    "name": "ipython",
    "version": 2
   },
   "file_extension": ".py",
   "mimetype": "text/x-python",
   "name": "python",
   "nbconvert_exporter": "python",
   "pygments_lexer": "ipython2",
   "version": "2.7.12"
  }
 },
 "nbformat": 4,
 "nbformat_minor": 0
}
